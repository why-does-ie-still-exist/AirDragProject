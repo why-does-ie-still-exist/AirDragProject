{
 "cells": [
  {
   "cell_type": "markdown",
   "metadata": {
    "collapsed": true,
    "pycharm": {
     "name": "#%% md\n"
    }
   },
   "source": [
    "# Air Drag Calculations\n",
    "\n",
    "This notebook uses data collected from our physics lab to determine if air drag is correlated to v or v^2\n",
    "\n",
    "The data collected was mean terminal velocity and standard deviation for various masses\n",
    "\n",
    "Since at terminal velocity the force of gravity is equal to the force of air drag,\n",
    "the mass should be linearly correlate to the force of air drag. So, whichever quantity,\n",
    "v or v^2, is better correlated to mass, we would expect to be better correlated to the force\n",
    "of air drag."
   ]
  },
  {
   "cell_type": "code",
   "execution_count": 23,
   "outputs": [],
   "source": [
    "from uncertainties import ufloat\n",
    "import numpy as np\n",
    "import math"
   ],
   "metadata": {
    "collapsed": false,
    "pycharm": {
     "name": "#%%\n"
    }
   }
  },
  {
   "cell_type": "markdown",
   "source": [
    "Here we take our data and put in arrays, and we make sure they all have the same length"
   ],
   "metadata": {
    "collapsed": false,
    "pycharm": {
     "name": "#%% md\n"
    }
   }
  },
  {
   "cell_type": "code",
   "execution_count": 24,
   "outputs": [
    {
     "name": "stdout",
     "output_type": "stream",
     "text": [
      "(15,)\n",
      "(15,)\n",
      "(15,)\n"
     ]
    }
   ],
   "source": [
    "mean_v_term = [0.7,0.7,0.69,0.88,0.94,0.99,1.36,1.43,1.42,1.67,1.61,1.61,1.9,1.95,1.98]\n",
    "std_dev = [.14,.09,.12,.06,.08,.08,.05,.17,.13,.13,.08,.14,.20,.15,.11]\n",
    "mass_measured = [*[1.07] * 3, *[1.89] * 3, *[2.85] * 3, *[3.66] * 3, *[4.70] * 3]\n",
    "\n",
    "print(np.shape(mean_v_term))\n",
    "print(np.shape(std_dev))\n",
    "print(np.shape(mass_measured))"
   ],
   "metadata": {
    "collapsed": false,
    "pycharm": {
     "name": "#%%\n"
    }
   }
  },
  {
   "cell_type": "markdown",
   "source": [
    "Next we want to convert these values into measurements with uncertainties.\n",
    "We let std_dev = .02 g because that seems reasonable idk."
   ],
   "metadata": {
    "collapsed": false,
    "pycharm": {
     "name": "#%% md\n"
    }
   }
  },
  {
   "cell_type": "code",
   "execution_count": 25,
   "outputs": [
    {
     "name": "stdout",
     "output_type": "stream",
     "text": [
      "First three measurements for velocity (m/s):\n",
      "[0.7+/-0.14, 0.7+/-0.09, 0.69+/-0.12]\n",
      "First three measurements for mass (g):\n",
      "[1.07+/-0.02, 1.07+/-0.02, 1.07+/-0.02]\n"
     ]
    }
   ],
   "source": [
    "def toUncertainties(values, std_dev):\n",
    "    return [ufloat(v,e) for v,e in zip(values,std_dev)]\n",
    "\n",
    "velocity = toUncertainties(mean_v_term,std_dev)\n",
    "mass = toUncertainties(mass_measured,[.02 for _ in range(0, len(mass_measured))])\n",
    "\n",
    "print(\"First three measurements for velocity (m/s):\\n\" + str(velocity[:3]))\n",
    "print(\"First three measurements for mass (g):\\n\" + str(mass[:3]))"
   ],
   "metadata": {
    "collapsed": false,
    "pycharm": {
     "name": "#%%\n"
    }
   }
  },
  {
   "cell_type": "code",
   "execution_count": 26,
   "outputs": [
    {
     "name": "stdout",
     "output_type": "stream",
     "text": [
      "Correlation coeff for velocity: 0.985+/-0.019\n",
      "Correlation coeff for velocity squared: 0.983+/-0.016\n"
     ]
    }
   ],
   "source": [
    "def avg(list): #library doesn't support lambdas/reduce :(\n",
    "    sum = 0\n",
    "    for value in list:\n",
    "        sum += value\n",
    "    return sum/len(list)\n",
    "\n",
    "def correlation_squared(list1, list2):\n",
    "    avg1 = avg(list1)\n",
    "    avg2 = avg(list2)\n",
    "    uppersum = 0\n",
    "    square1 = 0\n",
    "    square2 = 0\n",
    "    for value1, value2 in zip(list1,list2):\n",
    "        uppersum += (value1 - avg1)*(value2 - avg2)\n",
    "        square1 += (value1 - avg1)**2\n",
    "        square2 += (value2 - avg2)**2\n",
    "    return uppersum**2 / (square1*square2)\n",
    "\n",
    "coeff_for_v = correlation_squared(velocity,mass)\n",
    "coeff_for_squared = correlation_squared([v**2 for v in velocity],mass)\n",
    "\n",
    "print(\"Correlation coeff for velocity: \" + str(coeff_for_v))\n",
    "print(\"Correlation coeff for velocity squared: \" + str(coeff_for_squared))"
   ],
   "metadata": {
    "collapsed": false,
    "pycharm": {
     "name": "#%%\n"
    }
   }
  },
  {
   "cell_type": "markdown",
   "source": [
    "Yeah, so this package is pretty trash for doing any useful stats ngl. It's wrap() function rarely works so\n",
    "you have to roll your own stats library, but at least I got a result out of it. Unfortunately it was the wrong result\n",
    "(air drag *is* proportional to v sqaured), but even if it was the correct result regardless we should probably re-engineer\n",
    "our experiment because these correlation coefficients are too close.\n",
    "\n",
    "We can do a t score test to determine exactly how close:"
   ],
   "metadata": {
    "collapsed": false
   }
  },
  {
   "cell_type": "code",
   "execution_count": 27,
   "outputs": [
    {
     "name": "stdout",
     "output_type": "stream",
     "text": [
      "t score: 0.08606300601931852\n"
     ]
    }
   ],
   "source": [
    "def t_score(value1, value2):\n",
    "    return abs((value1.n - value2.n)/math.sqrt(value1.s**2 + value2.s**2))\n",
    "\n",
    "print(\"t score: \" + str(t_score(coeff_for_v,coeff_for_squared)))"
   ],
   "metadata": {
    "collapsed": false,
    "pycharm": {
     "name": "#%%\n"
    }
   }
  },
  {
   "cell_type": "markdown",
   "source": [
    "Which is very low. Which is a good t score, which is bad because it suggests we're sampling from the same distribution\n",
    "which really means we didn't show a significant difference between the two.\n",
    "\n",
    "\n",
    "|t score| meaning|\n",
    "|--|--|\n",
    "| <1 | high confidence that we're sampling <br> from the same distribution |\n",
    "| 1 < t < 3 | inconclusive, re-test |\n",
    "| t > 3 | high confidence that we're **not** sampling <br> from the same distribution |\n",
    "\n",
    "In the future when we re-design our experiment, testing with greater forces should result in higher\n",
    "velocities, where the disparity between the correlations will hopefully become apparent.\n",
    "\n",
    "Just for kicks, what does this data plotted look like?"
   ],
   "metadata": {
    "collapsed": false
   }
  },
  {
   "cell_type": "code",
   "execution_count": 28,
   "outputs": [
    {
     "data": {
      "text/plain": "<Figure size 432x288 with 1 Axes>",
      "image/png": "[encoded data removed]"
     },
     "metadata": {
      "needs_background": "light"
     },
     "output_type": "display_data"
    },
    {
     "data": {
      "text/plain": "<Figure size 432x288 with 1 Axes>",
      "image/png": "[encoded data removed]"
     },
     "metadata": {
      "needs_background": "light"
     },
     "output_type": "display_data"
    }
   ],
   "source": [
    "import matplotlib.pyplot as plt\n",
    "from numpy.polynomial.polynomial import polyfit\n",
    "\n",
    "x = np.array(mass_measured)\n",
    "y = np.array(mean_v_term)\n",
    "y_squared = np.array([v**2 for v in mean_v_term])\n",
    "\n",
    "plt.scatter(x,y)\n",
    "plt.title(\"Mass vs velocity\")\n",
    "plt.xlabel(\"Mass (g)\")\n",
    "plt.ylabel(\"Terminal Velocity(m/s)\")\n",
    "b, m = polyfit(x, y, 1)\n",
    "\n",
    "plt.plot(x, y, '.')\n",
    "plt.plot(x, b + m * x, '-')\n",
    "plt.show()\n",
    "\n",
    "\n",
    "plt.title(\"Mass vs velocity squared\")\n",
    "plt.scatter(x,y_squared)\n",
    "plt.xlabel(\"Mass (g)\")\n",
    "plt.ylabel(\"Terminal Velocity(m/s)\")\n",
    "b, m = polyfit(x, y_squared, 1)\n",
    "plt.plot(x, b + m * x, '-')\n",
    "plt.show()"
   ],
   "metadata": {
    "collapsed": false,
    "pycharm": {
     "name": "#%%\n"
    }
   }
  },
  {
   "cell_type": "markdown",
   "source": [
    "It's basically improssible to tell which is a better fit, which is why we need to re-test."
   ],
   "metadata": {
    "collapsed": false,
    "pycharm": {
     "name": "#%% md\n"
    }
   }
  }
 ],
 "metadata": {
  "kernelspec": {
   "display_name": "Python 3",
   "language": "python",
   "name": "python3"
  },
  "language_info": {
   "codemirror_mode": {
    "name": "ipython",
    "version": 2
   },
   "file_extension": ".py",
   "mimetype": "text/x-python",
   "name": "python",
   "nbconvert_exporter": "python",
   "pygments_lexer": "ipython2",
   "version": "2.7.6"
  }
 },
 "nbformat": 4,
 "nbformat_minor": 0
}